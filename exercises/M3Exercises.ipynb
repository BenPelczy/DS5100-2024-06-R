{
 "cells": [
  {
   "cell_type": "code",
   "execution_count": 1,
   "id": "2b440989-0e5b-4540-8cd9-b950c2a1aa22",
   "metadata": {
    "tags": []
   },
   "outputs": [
    {
     "name": "stdout",
     "output_type": "stream",
     "text": [
      "bucket 3\n"
     ]
    }
   ],
   "source": [
    "val = -2\n",
    "\n",
    "if -10 < val < -5:\n",
    "    print(\"bucket 1\")\n",
    "elif -5 <= val < -2:\n",
    "    print(\"bucket 2\")\n",
    "elif val == -2:\n",
    "    print(\"bucket 3\")"
   ]
  },
  {
   "cell_type": "code",
   "execution_count": 2,
   "id": "979eeeb8-f195-41e7-94db-d302bfaf8fdf",
   "metadata": {
    "tags": []
   },
   "outputs": [
    {
     "name": "stdout",
     "output_type": "stream",
     "text": [
      "bucket 4\n"
     ]
    }
   ],
   "source": [
    "val = 5\n",
    "\n",
    "if -10 < val < -5:\n",
    "    print(\"bucket 1\")\n",
    "elif -5 <= val < -2:\n",
    "    print(\"bucket 2\")\n",
    "elif val == -2:\n",
    "    print(\"bucket 3\")\n",
    "else:\n",
    "    print(\"bucket 4\")"
   ]
  },
  {
   "cell_type": "code",
   "execution_count": 3,
   "id": "f0f68796-43c0-4968-8558-614164c7ee41",
   "metadata": {
    "tags": []
   },
   "outputs": [
    {
     "name": "stdout",
     "output_type": "stream",
     "text": [
      "-2\n",
      "max_val\n",
      "0\n",
      "5\n",
      "6\n"
     ]
    }
   ],
   "source": [
    "xx = [-2, 8, 0, 5, 6]\n",
    "max_val = max(xx)\n",
    "for i in xx:\n",
    "    if i < max_val:\n",
    "        print(i)\n",
    "    else:\n",
    "        print(\"max_val\")"
   ]
  },
  {
   "cell_type": "code",
   "execution_count": 4,
   "id": "c26d160e-ebd8-4eeb-9a1c-24ac3b0b5803",
   "metadata": {
    "tags": []
   },
   "outputs": [
    {
     "name": "stdout",
     "output_type": "stream",
     "text": [
      "0\n",
      "10\n",
      "20\n",
      "30\n",
      "40\n",
      "50\n",
      "60\n",
      "70\n",
      "80\n",
      "90\n"
     ]
    }
   ],
   "source": [
    "it = 0\n",
    "max_iter = 100\n",
    "while it < max_iter:\n",
    "    if it % 10 == 0:\n",
    "        print(it)\n",
    "    it += 1"
   ]
  },
  {
   "cell_type": "code",
   "execution_count": 5,
   "id": "6c6fddc9-c121-4a4e-9f17-b5598fec4c32",
   "metadata": {
    "tags": []
   },
   "outputs": [
    {
     "name": "stdout",
     "output_type": "stream",
     "text": [
      "ben\n",
      "bart\n",
      "bert\n",
      "bort\n"
     ]
    }
   ],
   "source": [
    "names = [\"Ben\", \"Bart\", \"Bert\", \"Bort\"]\n",
    "for name in names:\n",
    "    print(name.lower())"
   ]
  },
  {
   "cell_type": "code",
   "execution_count": 6,
   "id": "4d674040-30cf-45ac-8833-e14557d5af2c",
   "metadata": {
    "tags": []
   },
   "outputs": [
    {
     "name": "stdout",
     "output_type": "stream",
     "text": [
      "Ben\n",
      "Bart\n",
      "Bert\n",
      "Bort\n"
     ]
    }
   ],
   "source": [
    "itname = iter(names)\n",
    "_ = [print(next(itname)) for i in range(len(names))]"
   ]
  },
  {
   "cell_type": "code",
   "execution_count": 7,
   "id": "8f6bff6a-bc3a-4852-887b-3fbb303d0016",
   "metadata": {
    "tags": []
   },
   "outputs": [
    {
     "name": "stdout",
     "output_type": "stream",
     "text": [
      "Davidson 28036\n",
      "Chantilly 20151\n"
     ]
    }
   ],
   "source": [
    "cityz = {\"Davidson\": 28036, \"Chantilly\": 20151}\n",
    "for k, v in cityz.items():\n",
    "    print(k, v)"
   ]
  },
  {
   "cell_type": "code",
   "execution_count": 8,
   "id": "821ffb51-dfce-4e17-8c1c-b807a55d29e6",
   "metadata": {
    "tags": []
   },
   "outputs": [
    {
     "name": "stdout",
     "output_type": "stream",
     "text": [
      "Davidson 28036\n",
      "Chantilly 20151\n"
     ]
    }
   ],
   "source": [
    "for k in cityz.keys():\n",
    "    print(k, cityz[k]) "
   ]
  },
  {
   "cell_type": "code",
   "execution_count": 9,
   "id": "be89d999-81fd-413b-a62b-749cabe156a1",
   "metadata": {
    "tags": []
   },
   "outputs": [
    {
     "data": {
      "text/plain": [
       "[8, 27, 125, 512, 2197]"
      ]
     },
     "execution_count": 9,
     "metadata": {},
     "output_type": "execute_result"
    }
   ],
   "source": [
    "numls = [2, 3, 5, 8, 13]\n",
    "cube = [(num**3) for num in numls]\n",
    "cube"
   ]
  },
  {
   "cell_type": "code",
   "execution_count": 10,
   "id": "2e3905b2-e67e-4ea9-83cc-caba47c4f767",
   "metadata": {
    "tags": []
   },
   "outputs": [
    {
     "data": {
      "text/plain": [
       "['13', '7', '2']"
      ]
     },
     "execution_count": 10,
     "metadata": {},
     "output_type": "execute_result"
    }
   ],
   "source": [
    "sevls = [\"Ben\", \"13\", \"7\", \"Seven\", \"Bort\", \"2\", \"END\"]\n",
    "sevnum = [x for x in sevls if x.isdigit()]\n",
    "sevnum"
   ]
  },
  {
   "cell_type": "code",
   "execution_count": 11,
   "id": "bf5bc067-2ee3-47da-90cb-073995eaf02e",
   "metadata": {
    "tags": []
   },
   "outputs": [
    {
     "data": {
      "text/plain": [
       "{'maxdepth': [5, 10], 'maxiter': [10, 20]}"
      ]
     },
     "execution_count": 11,
     "metadata": {},
     "output_type": "execute_result"
    }
   ],
   "source": [
    "grid = {\"maxdepth\": [5, 10], \"trees\": [100, 200, 300], \"reg\": [11, 12], \"maxiter\": [10,20]}\n",
    "gridmax = {key: grid[key] for key in grid.keys() if \"max\" in key}\n",
    "gridmax"
   ]
  },
  {
   "cell_type": "code",
   "execution_count": null,
   "id": "6f9ea1e3-d25b-444c-9e52-a24c64640f3a",
   "metadata": {},
   "outputs": [],
   "source": []
  }
 ],
 "metadata": {
  "kernelspec": {
   "display_name": "Python 3 (ipykernel)",
   "language": "python",
   "name": "python3"
  },
  "language_info": {
   "codemirror_mode": {
    "name": "ipython",
    "version": 3
   },
   "file_extension": ".py",
   "mimetype": "text/x-python",
   "name": "python",
   "nbconvert_exporter": "python",
   "pygments_lexer": "ipython3",
   "version": "3.11.4"
  }
 },
 "nbformat": 4,
 "nbformat_minor": 5
}
